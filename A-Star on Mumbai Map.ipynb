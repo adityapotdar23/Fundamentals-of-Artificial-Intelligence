{
  "nbformat": 4,
  "nbformat_minor": 0,
  "metadata": {
    "colab": {
      "provenance": []
    },
    "kernelspec": {
      "name": "python3",
      "display_name": "Python 3"
    },
    "language_info": {
      "name": "python"
    }
  },
  "cells": [
    {
      "cell_type": "code",
      "execution_count": 1,
      "metadata": {
        "colab": {
          "base_uri": "https://localhost:8080/"
        },
        "id": "8Z0JEYFHOQEr",
        "outputId": "ec9fb533-7ea9-45ef-a9a8-a97fcc4c1bce"
      },
      "outputs": [
        {
          "output_type": "stream",
          "name": "stdout",
          "text": [
            "Looking in indexes: https://pypi.org/simple, https://us-python.pkg.dev/colab-wheels/public/simple/\n",
            "Requirement already satisfied: geopy in /usr/local/lib/python3.7/dist-packages (1.17.0)\n",
            "Requirement already satisfied: geographiclib<2,>=1.49 in /usr/local/lib/python3.7/dist-packages (from geopy) (1.52)\n"
          ]
        }
      ],
      "source": [
        "!pip install geopy"
      ]
    },
    {
      "cell_type": "code",
      "source": [
        "!pip install haversine"
      ],
      "metadata": {
        "colab": {
          "base_uri": "https://localhost:8080/"
        },
        "id": "-cLt-BXjSr7k",
        "outputId": "a165ee98-5031-4826-a85a-83c3fd387616"
      },
      "execution_count": 2,
      "outputs": [
        {
          "output_type": "stream",
          "name": "stdout",
          "text": [
            "Looking in indexes: https://pypi.org/simple, https://us-python.pkg.dev/colab-wheels/public/simple/\n",
            "Collecting haversine\n",
            "  Downloading haversine-2.7.0-py2.py3-none-any.whl (6.9 kB)\n",
            "Installing collected packages: haversine\n",
            "Successfully installed haversine-2.7.0\n"
          ]
        }
      ]
    },
    {
      "cell_type": "code",
      "source": [
        "locationList = [\"Juhu Beach\", \"JW Marriott Mumbai Juhu\", \"Wankhede Stadium\", \"Nanavati Hospital\", \"Cooper Municipal Hospital\", \"Lokhandwala Complex Market\", \"Inorbit Mall\", \"Sanjay Gandhi National Park\", \"Jio World Drive\", \"JJ Hospital Mumbai\", \"Palladium Mall\", \"Mahalakshmi Race Course\", \"Nair Hospital\", \"Mazagon Dock Shipbuilders Limited\", \"Mani's Café\", \"Hanging Gardens\", \"Pushpa Narsee Park\", \"PVR Juhu Mumbai\", \"Juhu Airport\", \"Milan Subway Rd\", \"Carter road Bandra west\", \"Infiniti Mall\", \"Linking Rd\", \"Mahavir Hospital\", \"Bandra Worli Sea Link\", \"Nehru planetarium\", \"Jaslok Hospital & Research Centre\", \"Haji Ali Dargah\", \"Versova SOCIAL\", \"Chhatrapati Shivaji Maharaj Terminus\",'Nair Hospital','Girgaon Chowpatty','Shivaji Park dadar','Dadar Railway Station','Siddhivinayak Temple, Dadar','Shiv Sena Bhavan','Apollo Bandar, Colaba','Mahalakshmi,Mumbai','Saifee Hospital','Gateway of India']"
      ],
      "metadata": {
        "id": "7XprKPYcP6EH"
      },
      "execution_count": 33,
      "outputs": []
    },
    {
      "cell_type": "code",
      "source": [
        "from geopy.geocoders import Nominatim\n",
        "locationLL={}\n",
        "for i in locationList:\n",
        "  print(i)\n",
        "  loc = Nominatim(user_agent=\"GetLoc\")\n",
        "  getLoc = loc.geocode(i)\n",
        "  locationLL[i]=[getLoc.latitude,getLoc.longitude]\n",
        "locationLL"
      ],
      "metadata": {
        "colab": {
          "base_uri": "https://localhost:8080/"
        },
        "id": "9-ouvm9dS7yR",
        "outputId": "6ea11294-0b15-44ee-ae79-f17a17d6a51d"
      },
      "execution_count": 34,
      "outputs": [
        {
          "output_type": "stream",
          "name": "stdout",
          "text": [
            "Juhu Beach\n",
            "JW Marriott Mumbai Juhu\n",
            "Wankhede Stadium\n",
            "Nanavati Hospital\n",
            "Cooper Municipal Hospital\n",
            "Lokhandwala Complex Market\n",
            "Inorbit Mall\n",
            "Sanjay Gandhi National Park\n",
            "Jio World Drive\n",
            "JJ Hospital Mumbai\n",
            "Palladium Mall\n",
            "Mahalakshmi Race Course\n",
            "Nair Hospital\n",
            "Mazagon Dock Shipbuilders Limited\n",
            "Mani's Café\n",
            "Hanging Gardens\n",
            "Pushpa Narsee Park\n",
            "PVR Juhu Mumbai\n",
            "Juhu Airport\n",
            "Milan Subway Rd\n",
            "Carter road Bandra west\n",
            "Infiniti Mall\n",
            "Linking Rd\n",
            "Mahavir Hospital\n",
            "Bandra Worli Sea Link\n",
            "Nehru planetarium\n",
            "Jaslok Hospital & Research Centre\n",
            "Haji Ali Dargah\n",
            "Versova SOCIAL\n",
            "Chhatrapati Shivaji Maharaj Terminus\n",
            "Nair Hospital\n",
            "Girgaon Chowpatty\n",
            "Shivaji Park dadar\n",
            "Dadar Railway Station\n",
            "Siddhivinayak Temple, Dadar\n",
            "Shiv Sena Bhavan\n",
            "Apollo Bandar, Colaba\n",
            "Mahalakshmi,Mumbai\n",
            "Saifee Hospital\n",
            "Gateway of India\n"
          ]
        },
        {
          "output_type": "execute_result",
          "data": {
            "text/plain": [
              "{'Juhu Beach': [19.122146450000002, 72.81876151188848],\n",
              " 'JW Marriott Mumbai Juhu': [19.10184195, 72.82607104577414],\n",
              " 'Wankhede Stadium': [18.9385497, 72.82574081674653],\n",
              " 'Nanavati Hospital': [19.0959684, 72.8400115],\n",
              " 'Cooper Municipal Hospital': [19.1077452, 72.83622102841754],\n",
              " 'Lokhandwala Complex Market': [19.1439977, 72.82573052343596],\n",
              " 'Inorbit Mall': [19.172965400000002, 72.83507693542902],\n",
              " 'Sanjay Gandhi National Park': [19.2316305, 72.86428673847298],\n",
              " 'Jio World Drive': [19.0538461, 72.85110462955777],\n",
              " 'JJ Hospital Mumbai': [18.9629925, 72.83371153233885],\n",
              " 'Palladium Mall': [50.089426950000004, 14.429638008942224],\n",
              " 'Mahalakshmi Race Course': [18.98558925, 72.81778831714315],\n",
              " 'Nair Hospital': [18.9730222, 72.8219132],\n",
              " 'Mazagon Dock Shipbuilders Limited': [18.9666164, 72.8500451163707],\n",
              " \"Mani's Café\": [23.8113396, 86.4543948],\n",
              " 'Hanging Gardens': [36.3591417, 43.1540394],\n",
              " 'Pushpa Narsee Park': [19.10474835, 72.83030740629711],\n",
              " 'PVR Juhu Mumbai': [19.1148228, 72.8275031],\n",
              " 'Juhu Airport': [19.0977728, 72.83322295533156],\n",
              " 'Milan Subway Rd': [19.0904782, 72.8426101],\n",
              " 'Carter road Bandra west': [19.0607341, 72.8222907],\n",
              " 'Infiniti Mall': [19.1413365, 72.83090335658065],\n",
              " 'Linking Rd': [19.0601903, 72.8364883],\n",
              " 'Mahavir Hospital': [19.0632122, 72.9197954],\n",
              " 'Bandra Worli Sea Link': [19.0136539, 72.8134202],\n",
              " 'Nehru planetarium': [18.99012665, 72.81476589455485],\n",
              " 'Jaslok Hospital & Research Centre': [18.971700499999997, 72.80992573604186],\n",
              " 'Haji Ali Dargah': [18.9828229, 72.8089926],\n",
              " 'Versova SOCIAL': [19.1263675, 72.8205036],\n",
              " 'Chhatrapati Shivaji Maharaj Terminus': [18.9398453, 72.83547038112503],\n",
              " 'Girgaon Chowpatty': [18.954354350000003, 72.81232247040975],\n",
              " 'Shivaji Park dadar': [19.027236000000002, 72.8383477969171],\n",
              " 'Dadar Railway Station': [19.019282, 72.8428757],\n",
              " 'Siddhivinayak Temple, Dadar': [19.01687745, 72.83040035722212],\n",
              " 'Shiv Sena Bhavan': [19.02466705, 72.84052426674205],\n",
              " 'Apollo Bandar, Colaba': [18.9183748, 72.8314429],\n",
              " 'Mahalakshmi,Mumbai': [18.9892129, 72.8186798],\n",
              " 'Saifee Hospital': [18.952506800000002, 72.81817946187279],\n",
              " 'Gateway of India': [18.9219661, 72.83456565615893]}"
            ]
          },
          "metadata": {},
          "execution_count": 34
        }
      ]
    },
    {
      "cell_type": "code",
      "source": [
        "from haversine import haversine, Unit\n",
        "def distance(i,j):\n",
        "  return haversine(i,j)"
      ],
      "metadata": {
        "id": "N-OUUNDcSvwz"
      },
      "execution_count": 35,
      "outputs": []
    },
    {
      "cell_type": "code",
      "source": [
        "def generateParentChildren(visited,open,locationLL,locationList):\n",
        "  traverse = [x for x in locationList if x not in visited]\n",
        "  dist=[]\n",
        "  for i in range(len(traverse)):\n",
        "    dist.append(distance(locationLL[visited[-1]],locationLL[traverse[i]]))\n",
        "  c=3\n",
        "  childs=[]\n",
        "  count=len(traverse)\n",
        "  while(c>0 and count>=1):\n",
        "    childs.append(traverse[dist.index(min(dist))])\n",
        "    c-=1\n",
        "    count-=1\n",
        "    dist[dist.index(min(dist))]=999\n",
        "  parentChildren[visited[-1]]=childs\n",
        "  open.extend([i for i in childs if i not in open])"
      ],
      "metadata": {
        "id": "gY74O-rPdz_K"
      },
      "execution_count": 36,
      "outputs": []
    },
    {
      "cell_type": "code",
      "source": [
        "visited=[locationList[0]]\n",
        "parentChildren={}\n",
        "open=[]\n",
        "generateParentChildren(visited,open,locationLL,locationList)\n",
        "while(len(open)>=1):\n",
        "  visited.append(open[0])\n",
        "  del open[0]\n",
        "  generateParentChildren(visited,open,locationLL,locationList)\n",
        "print(\"Open:=> \",open)\n",
        "print(\"Parent Children:=> \",parentChildren)"
      ],
      "metadata": {
        "colab": {
          "base_uri": "https://localhost:8080/"
        },
        "id": "FjYKPmStUSKS",
        "outputId": "6281afc2-20db-41ea-976b-78fa3e445b1f"
      },
      "execution_count": 37,
      "outputs": [
        {
          "output_type": "stream",
          "name": "stdout",
          "text": [
            "Open:=>  []\n",
            "Parent Children:=>  {'Juhu Beach': ['Versova SOCIAL', 'PVR Juhu Mumbai', 'Pushpa Narsee Park'], 'Versova SOCIAL': ['PVR Juhu Mumbai', 'Infiniti Mall', 'Lokhandwala Complex Market'], 'PVR Juhu Mumbai': ['Pushpa Narsee Park', 'Cooper Municipal Hospital', 'JW Marriott Mumbai Juhu'], 'Pushpa Narsee Park': ['JW Marriott Mumbai Juhu', 'Cooper Municipal Hospital', 'Juhu Airport'], 'Infiniti Mall': ['Lokhandwala Complex Market', 'Inorbit Mall', 'Cooper Municipal Hospital'], 'Lokhandwala Complex Market': ['Inorbit Mall', 'Cooper Municipal Hospital', 'JW Marriott Mumbai Juhu'], 'Cooper Municipal Hospital': ['Juhu Airport', 'JW Marriott Mumbai Juhu', 'Nanavati Hospital'], 'JW Marriott Mumbai Juhu': ['Juhu Airport', 'Nanavati Hospital', 'Milan Subway Rd'], 'Juhu Airport': ['Nanavati Hospital', 'Milan Subway Rd', 'Linking Rd'], 'Inorbit Mall': ['Sanjay Gandhi National Park', 'Nanavati Hospital', 'Milan Subway Rd'], 'Nanavati Hospital': ['Milan Subway Rd', 'Linking Rd', 'Carter road Bandra west'], 'Milan Subway Rd': ['Linking Rd', 'Carter road Bandra west', 'Jio World Drive'], 'Linking Rd': ['Carter road Bandra west', 'Jio World Drive', 'Shivaji Park dadar'], 'Sanjay Gandhi National Park': ['Carter road Bandra west', 'Mahavir Hospital', 'Jio World Drive'], 'Carter road Bandra west': ['Jio World Drive', 'Shivaji Park dadar', 'Shiv Sena Bhavan'], 'Jio World Drive': ['Shivaji Park dadar', 'Shiv Sena Bhavan', 'Dadar Railway Station'], 'Shivaji Park dadar': ['Shiv Sena Bhavan', 'Dadar Railway Station', 'Siddhivinayak Temple, Dadar'], 'Mahavir Hospital': ['Shiv Sena Bhavan', 'Dadar Railway Station', 'Siddhivinayak Temple, Dadar'], 'Shiv Sena Bhavan': ['Dadar Railway Station', 'Siddhivinayak Temple, Dadar', 'Bandra Worli Sea Link'], 'Dadar Railway Station': ['Siddhivinayak Temple, Dadar', 'Bandra Worli Sea Link', 'Mahalakshmi,Mumbai'], 'Siddhivinayak Temple, Dadar': ['Bandra Worli Sea Link', 'Mahalakshmi,Mumbai', 'Nehru planetarium'], 'Bandra Worli Sea Link': ['Nehru planetarium', 'Mahalakshmi,Mumbai', 'Mahalakshmi Race Course'], 'Mahalakshmi,Mumbai': ['Mahalakshmi Race Course', 'Nehru planetarium', 'Haji Ali Dargah'], 'Nehru planetarium': ['Mahalakshmi Race Course', 'Haji Ali Dargah', 'Nair Hospital'], 'Mahalakshmi Race Course': ['Haji Ali Dargah', 'Nair Hospital', 'Nair Hospital'], 'Haji Ali Dargah': ['Jaslok Hospital & Research Centre', 'Nair Hospital', 'Nair Hospital'], 'Nair Hospital': ['Jaslok Hospital & Research Centre', 'JJ Hospital Mumbai', 'Girgaon Chowpatty'], 'Jaslok Hospital & Research Centre': ['Girgaon Chowpatty', 'Saifee Hospital', 'JJ Hospital Mumbai'], 'JJ Hospital Mumbai': ['Mazagon Dock Shipbuilders Limited', 'Saifee Hospital', 'Girgaon Chowpatty'], 'Girgaon Chowpatty': ['Saifee Hospital', 'Wankhede Stadium', 'Chhatrapati Shivaji Maharaj Terminus'], 'Saifee Hospital': ['Wankhede Stadium', 'Chhatrapati Shivaji Maharaj Terminus', 'Mazagon Dock Shipbuilders Limited'], 'Mazagon Dock Shipbuilders Limited': ['Chhatrapati Shivaji Maharaj Terminus', 'Wankhede Stadium', 'Gateway of India'], 'Wankhede Stadium': ['Chhatrapati Shivaji Maharaj Terminus', 'Gateway of India', 'Apollo Bandar, Colaba'], 'Chhatrapati Shivaji Maharaj Terminus': ['Gateway of India', 'Apollo Bandar, Colaba', 'Apollo Bandar, Colaba'], 'Gateway of India': ['Apollo Bandar, Colaba', 'Apollo Bandar, Colaba', 'Apollo Bandar, Colaba'], 'Apollo Bandar, Colaba': [\"Mani's Café\", \"Mani's Café\", \"Mani's Café\"], \"Mani's Café\": ['Hanging Gardens', 'Hanging Gardens'], 'Hanging Gardens': ['Palladium Mall'], 'Palladium Mall': []}\n"
          ]
        }
      ]
    },
    {
      "cell_type": "markdown",
      "source": [
        "##Implementation of A*"
      ],
      "metadata": {
        "id": "vckik9l5nHmJ"
      }
    },
    {
      "cell_type": "markdown",
      "source": [
        "// A* Search Algorithm\n",
        "1.  Initialize the open list\n",
        "2.  Initialize the closed list\n",
        "    put the starting node on the open \n",
        "    list (you can leave its f at zero)\n",
        "\n",
        "3.  while the open list is not empty\n",
        "\n",
        "    a) find the node with the least f on \n",
        "       the open list, call it \"q\"\n",
        "\n",
        "    b) pop q off the open list\n",
        "  \n",
        "    c) generate q's 8 successors and set their \n",
        "       parents to q\n",
        "   \n",
        "    d) for each successor\n",
        "        i) if successor is the goal, stop search\n",
        "        \n",
        "        ii) else, compute both g and h for successor\n",
        "          successor.g = q.g + distance between \n",
        "                              successor and q\n",
        "          successor.h = distance from goal to \n",
        "          successor (This can be done using many \n",
        "          ways, we will discuss three heuristics- \n",
        "          Manhattan, Diagonal and Euclidean \n",
        "          Heuristics)\n",
        "          \n",
        "          successor.f = successor.g + successor.h\n",
        "\n",
        "        iii) if a node with the same position as \n",
        "            successor is in the OPEN list which has a \n",
        "           lower f than successor, skip this successor\n",
        "\n",
        "        iV) if a node with the same position as \n",
        "            successor  is in the CLOSED list which has\n",
        "            a lower f than successor, skip this successor\n",
        "            otherwise, add  the node to the open list\n",
        "     end (for loop)\n",
        "  \n",
        "    e) push q on the closed list\n",
        "    end (while loop)"
      ],
      "metadata": {
        "id": "NrCQQiMZs3No"
      }
    },
    {
      "cell_type": "code",
      "source": [
        "def printPath(t):\n",
        "  print(\"Path =>\",end=\" \")\n",
        "  while PC[t]!=None:\n",
        "    print(t,end=\" <- \")\n",
        "    t=PC[t]\n",
        "  print(t)"
      ],
      "metadata": {
        "id": "IbLJAptNrAT6"
      },
      "execution_count": 38,
      "outputs": []
    },
    {
      "cell_type": "code",
      "source": [
        "def goalTest(city,goal):\n",
        "  if goal==city:\n",
        "    print(\"\\n\\nFinal A* path\\n\")\n",
        "    printPath(city)\n",
        "    return True\n",
        "  printPath(city)\n",
        "  return False"
      ],
      "metadata": {
        "id": "tm_D57RenKaW"
      },
      "execution_count": 39,
      "outputs": []
    },
    {
      "cell_type": "code",
      "source": [
        "def moveGen(p):\n",
        "  childs=parentChildren[p]\n",
        "  return childs"
      ],
      "metadata": {
        "id": "3oxwIzfjD8tM"
      },
      "execution_count": 40,
      "outputs": []
    },
    {
      "cell_type": "code",
      "source": [
        "def getNew(open):\n",
        "  return min(open,key=open.get)"
      ],
      "metadata": {
        "id": "Po5m5A7cxcjk"
      },
      "execution_count": 41,
      "outputs": []
    },
    {
      "cell_type": "code",
      "source": [
        "def propogateImprovement(m):\n",
        "  nb=moveGen(m)\n",
        "  for s in nb:\n",
        "    newGvalue=G[m]+distance(locationLL[m],locationLL[s])\n",
        "    if newGvalue<G[s]:\n",
        "      PC[s]=m\n",
        "      G[s]=newGvalue\n",
        "      if s in closed:\n",
        "        propogateImprovement(s)"
      ],
      "metadata": {
        "id": "YDIaPXVuWYqH"
      },
      "execution_count": 42,
      "outputs": []
    },
    {
      "cell_type": "code",
      "source": [
        "city='Juhu Beach'\n",
        "goal='Gateway of India'\n",
        "G={}\n",
        "F={}\n",
        "H={}\n",
        "H[city]=distance(locationLL[city],locationLL[goal])\n",
        "F[city]=H[city]\n",
        "G[city]=0\n",
        "open={city:H[city]}\n",
        "closed=[]\n",
        "PC={city:None}"
      ],
      "metadata": {
        "id": "6drRZBufB8gm"
      },
      "execution_count": 43,
      "outputs": []
    },
    {
      "cell_type": "code",
      "source": [
        "while len(open)>=1:\n",
        "  n=getNew(open)\n",
        "  del open[n]\n",
        "  closed.append(n)\n",
        "  if(goalTest(n,goal)):\n",
        "    print(\"Total cost: \",G[n])\n",
        "    break\n",
        "  neighbours=moveGen(n)\n",
        "  for m in neighbours:\n",
        "    if m not in open and m not in closed:\n",
        "      PC[m]=n\n",
        "      G[m]=G[n]+distance(locationLL[n],locationLL[m])\n",
        "      F[m]=G[m]+distance(locationLL[m],locationLL[goal])\n",
        "      open[m]=F[m]\n",
        "    elif m in open:\n",
        "      if G[n]+distance(locationLL[n],locationLL[m])<G[m]:\n",
        "        PC[m]=n\n",
        "        G[m]=G[n]+distance(locationLL[n],locationLL[m])\n",
        "        F[m]=G[m]+distance(locationLL[m],locationLL[goal])\n",
        "        open[m]=F[m]\n",
        "    elif m in closed:\n",
        "      if G[n]+distance(locationLL[n],locationLL[m])<G[m]:\n",
        "        PC[m]=n\n",
        "        G[m]=G[n]+distance(locationLL[n],locationLL[m])\n",
        "        F[m]=G[m]+distance(locationLL[m],locationLL[goal])\n",
        "        open[m]=F[m]\n",
        "        propogateImprovement(m)"
      ],
      "metadata": {
        "colab": {
          "base_uri": "https://localhost:8080/"
        },
        "id": "uRDoC-8Pn-PN",
        "outputId": "eae31e56-4700-4418-9d03-4650201bbd14"
      },
      "execution_count": 44,
      "outputs": [
        {
          "output_type": "stream",
          "name": "stdout",
          "text": [
            "Path => Juhu Beach\n",
            "Path => Pushpa Narsee Park <- Juhu Beach\n",
            "Path => Juhu Airport <- Pushpa Narsee Park <- Juhu Beach\n",
            "Path => Linking Rd <- Juhu Airport <- Pushpa Narsee Park <- Juhu Beach\n",
            "Path => PVR Juhu Mumbai <- Juhu Beach\n",
            "Path => Shivaji Park dadar <- Linking Rd <- Juhu Airport <- Pushpa Narsee Park <- Juhu Beach\n",
            "Path => JW Marriott Mumbai Juhu <- PVR Juhu Mumbai <- Juhu Beach\n",
            "Path => Shiv Sena Bhavan <- Shivaji Park dadar <- Linking Rd <- Juhu Airport <- Pushpa Narsee Park <- Juhu Beach\n",
            "Path => Dadar Railway Station <- Shivaji Park dadar <- Linking Rd <- Juhu Airport <- Pushpa Narsee Park <- Juhu Beach\n",
            "Path => Siddhivinayak Temple, Dadar <- Shivaji Park dadar <- Linking Rd <- Juhu Airport <- Pushpa Narsee Park <- Juhu Beach\n",
            "Path => Cooper Municipal Hospital <- PVR Juhu Mumbai <- Juhu Beach\n",
            "Path => Milan Subway Rd <- Juhu Airport <- Pushpa Narsee Park <- Juhu Beach\n",
            "Path => Nanavati Hospital <- Cooper Municipal Hospital <- PVR Juhu Mumbai <- Juhu Beach\n",
            "Path => Versova SOCIAL <- Juhu Beach\n",
            "Path => Jio World Drive <- Milan Subway Rd <- Juhu Airport <- Pushpa Narsee Park <- Juhu Beach\n",
            "Path => Mahalakshmi,Mumbai <- Siddhivinayak Temple, Dadar <- Shivaji Park dadar <- Linking Rd <- Juhu Airport <- Pushpa Narsee Park <- Juhu Beach\n",
            "Path => Mahalakshmi Race Course <- Mahalakshmi,Mumbai <- Siddhivinayak Temple, Dadar <- Shivaji Park dadar <- Linking Rd <- Juhu Airport <- Pushpa Narsee Park <- Juhu Beach\n",
            "Path => Nair Hospital <- Mahalakshmi Race Course <- Mahalakshmi,Mumbai <- Siddhivinayak Temple, Dadar <- Shivaji Park dadar <- Linking Rd <- Juhu Airport <- Pushpa Narsee Park <- Juhu Beach\n",
            "Path => Carter road Bandra west <- Nanavati Hospital <- Cooper Municipal Hospital <- PVR Juhu Mumbai <- Juhu Beach\n",
            "Path => Nehru planetarium <- Siddhivinayak Temple, Dadar <- Shivaji Park dadar <- Linking Rd <- Juhu Airport <- Pushpa Narsee Park <- Juhu Beach\n",
            "Path => JJ Hospital Mumbai <- Nair Hospital <- Mahalakshmi Race Course <- Mahalakshmi,Mumbai <- Siddhivinayak Temple, Dadar <- Shivaji Park dadar <- Linking Rd <- Juhu Airport <- Pushpa Narsee Park <- Juhu Beach\n",
            "Path => Haji Ali Dargah <- Nehru planetarium <- Siddhivinayak Temple, Dadar <- Shivaji Park dadar <- Linking Rd <- Juhu Airport <- Pushpa Narsee Park <- Juhu Beach\n",
            "Path => Jaslok Hospital & Research Centre <- Haji Ali Dargah <- Nehru planetarium <- Siddhivinayak Temple, Dadar <- Shivaji Park dadar <- Linking Rd <- Juhu Airport <- Pushpa Narsee Park <- Juhu Beach\n",
            "Path => Saifee Hospital <- Jaslok Hospital & Research Centre <- Haji Ali Dargah <- Nehru planetarium <- Siddhivinayak Temple, Dadar <- Shivaji Park dadar <- Linking Rd <- Juhu Airport <- Pushpa Narsee Park <- Juhu Beach\n",
            "Path => Wankhede Stadium <- Saifee Hospital <- Jaslok Hospital & Research Centre <- Haji Ali Dargah <- Nehru planetarium <- Siddhivinayak Temple, Dadar <- Shivaji Park dadar <- Linking Rd <- Juhu Airport <- Pushpa Narsee Park <- Juhu Beach\n",
            "\n",
            "\n",
            "Final A* path\n",
            "\n",
            "Path => Gateway of India <- Wankhede Stadium <- Saifee Hospital <- Jaslok Hospital & Research Centre <- Haji Ali Dargah <- Nehru planetarium <- Siddhivinayak Temple, Dadar <- Shivaji Park dadar <- Linking Rd <- Juhu Airport <- Pushpa Narsee Park <- Juhu Beach\n",
            "Total cost:  24.16830030967767\n"
          ]
        }
      ]
    }
  ]
}